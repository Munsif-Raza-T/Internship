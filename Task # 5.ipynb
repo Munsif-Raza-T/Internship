{
 "cells": [
  {
   "cell_type": "code",
   "execution_count": 11,
   "id": "2926ae0f",
   "metadata": {},
   "outputs": [],
   "source": [
    "# Importing libraries\n",
    "import pandas as pd\n",
    "import numpy as np\n",
    "from sklearn.model_selection import train_test_split\n",
    "from sklearn.naive_bayes import GaussianNB"
   ]
  },
  {
   "cell_type": "code",
   "execution_count": 12,
   "id": "c16aace9",
   "metadata": {},
   "outputs": [],
   "source": [
    "# Importing dataset\n",
    "df = pd.read_csv('Iris.csv', index_col=0)"
   ]
  },
  {
   "cell_type": "code",
   "execution_count": 13,
   "id": "119e17cf",
   "metadata": {},
   "outputs": [
    {
     "data": {
      "text/plain": [
       "(150, 5)"
      ]
     },
     "execution_count": 13,
     "metadata": {},
     "output_type": "execute_result"
    }
   ],
   "source": [
    "# Looking for columns and rows\n",
    "df.shape"
   ]
  },
  {
   "cell_type": "markdown",
   "id": "f08837d7",
   "metadata": {},
   "source": [
    "This shows that this dataset has 150 records(rows) and 6 features(columns)."
   ]
  },
  {
   "cell_type": "code",
   "execution_count": 14,
   "id": "ccc9c8b4",
   "metadata": {},
   "outputs": [],
   "source": [
    "# Making encoding dictionary\n",
    "encoding_dict = {\n",
    "    \"Species\" : {\"Iris-setosa\":0, \"Iris-versicolor\":1, \"Iris-virginica\":2}\n",
    "}"
   ]
  },
  {
   "cell_type": "code",
   "execution_count": 15,
   "id": "0984e993",
   "metadata": {},
   "outputs": [],
   "source": [
    "# Replacing the categorical data to numerical data.\n",
    "df = df.replace(encoding_dict)"
   ]
  },
  {
   "cell_type": "code",
   "execution_count": 16,
   "id": "ce5df097",
   "metadata": {},
   "outputs": [],
   "source": [
    "# I/O data\n",
    "X = df.iloc[:,:-1]\n",
    "y = df.iloc[:,-1]"
   ]
  },
  {
   "cell_type": "code",
   "execution_count": 18,
   "id": "51936bcf",
   "metadata": {},
   "outputs": [],
   "source": [
    "# Model initialization.\n",
    "clf = GaussianNB()"
   ]
  },
  {
   "cell_type": "code",
   "execution_count": 34,
   "id": "aaeaf627",
   "metadata": {},
   "outputs": [],
   "source": [
    "# Tuple\n",
    "score_tuple = tuple()"
   ]
  },
  {
   "cell_type": "code",
   "execution_count": 35,
   "id": "07b6659e",
   "metadata": {},
   "outputs": [],
   "source": [
    "# Using for loop for getting train test data and model training and evaluation.\n",
    "for i in np.arange(50,70,5):\n",
    "    X_train, X_test, y_train, y_test = train_test_split(X, y, test_size=0.18, random_state=i)\n",
    "    clf.fit(X_train, y_train)\n",
    "    score_tuple = score_tuple + (clf.score(X_test, y_test),)# append tuple using concatination"
   ]
  },
  {
   "cell_type": "code",
   "execution_count": 36,
   "id": "58352494",
   "metadata": {},
   "outputs": [
    {
     "name": "stdout",
     "output_type": "stream",
     "text": [
      "(0.9629629629629629, 0.9629629629629629, 0.9259259259259259, 0.9259259259259259)\n"
     ]
    }
   ],
   "source": [
    "# Printing tup\n",
    "print(score_tuple)"
   ]
  },
  {
   "cell_type": "code",
   "execution_count": null,
   "id": "9eef7b4f",
   "metadata": {},
   "outputs": [],
   "source": []
  }
 ],
 "metadata": {
  "kernelspec": {
   "display_name": "Python 3 (ipykernel)",
   "language": "python",
   "name": "python3"
  },
  "language_info": {
   "codemirror_mode": {
    "name": "ipython",
    "version": 3
   },
   "file_extension": ".py",
   "mimetype": "text/x-python",
   "name": "python",
   "nbconvert_exporter": "python",
   "pygments_lexer": "ipython3",
   "version": "3.8.10"
  }
 },
 "nbformat": 4,
 "nbformat_minor": 5
}
