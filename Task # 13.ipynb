{
 "cells": [
  {
   "cell_type": "code",
   "execution_count": 19,
   "id": "5f2b3342",
   "metadata": {},
   "outputs": [],
   "source": [
    "import tkinter as tk\n",
    "from tkinter import filedialog, Text\n",
    "import os\n",
    "import pickle\n",
    "import numpy as np"
   ]
  },
  {
   "cell_type": "code",
   "execution_count": 20,
   "id": "ab583f14",
   "metadata": {},
   "outputs": [],
   "source": [
    "files = []"
   ]
  },
  {
   "cell_type": "code",
   "execution_count": 30,
   "id": "94c19ee4",
   "metadata": {},
   "outputs": [],
   "source": [
    "root = tk.Tk(className = 'Clustering')\n",
    "root.geometry(\"600x200\")\n",
    "openFile = tk.Button(root, text='Select Dataset', padx=10, pady=5, fg='white', bg='#263D42', command=addFile)\n",
    "openFile.pack()\n",
    "input_label = tk.Label(root, text=\"Give your Input below\", bg = \"blue\", fg = \"white\", font = \"Castellar\")\n",
    "input_label.pack()\n",
    "des_label = tk.Label(root, text=\"You have to give 11 values with comma seperated as \\n sex,age,hdlngth,skullw,totlngth,taill,footlgth,earconch,eye,chest,belly\")\n",
    "des_label.pack()\n",
    "entry = tk.Entry(root)\n",
    "entry.pack()\n",
    "prediction = tk.Button(root, text='Predict', padx=10, pady=5, fg='white', bg='#263D42', command=getValue)\n",
    "prediction.pack()"
   ]
  },
  {
   "cell_type": "code",
   "execution_count": 31,
   "id": "36b63db1",
   "metadata": {},
   "outputs": [],
   "source": [
    "root.mainloop()"
   ]
  },
  {
   "cell_type": "code",
   "execution_count": 12,
   "id": "1c2f6923",
   "metadata": {},
   "outputs": [],
   "source": [
    "# load the model from disk\n",
    "filename = 'model.sav'\n",
    "loaded_model = pickle.load(open(filename, 'rb'))"
   ]
  },
  {
   "cell_type": "code",
   "execution_count": 13,
   "id": "ba39826f",
   "metadata": {},
   "outputs": [],
   "source": [
    "def addFile():\n",
    "    filename = filedialog.askopenfilename(initialdir=\"/home/munsif/internship\", title=\"Select File\",\n",
    "                                         filetypes=((\"CSV\",\"*.csv\"), (\"All Files\", \"*.*\")))\n",
    "    files.append(filename)\n",
    "    print(filename)"
   ]
  },
  {
   "cell_type": "code",
   "execution_count": 29,
   "id": "44375843",
   "metadata": {},
   "outputs": [],
   "source": [
    "def getValue():\n",
    "    data = []\n",
    "    data = entry.get()\n",
    "    data = data.split(',')\n",
    "    if len(data)==11:\n",
    "        data = [data]\n",
    "        prediction = loaded_model.predict(data)\n",
    "        result = tk.Label(root, text=f'Prediction: {prediction}')\n",
    "        result.pack()\n",
    "    else:\n",
    "        result = tk.Label(root, text='Invalid Data')\n",
    "        result.pack()"
   ]
  },
  {
   "cell_type": "code",
   "execution_count": null,
   "id": "76e48434",
   "metadata": {},
   "outputs": [],
   "source": []
  }
 ],
 "metadata": {
  "kernelspec": {
   "display_name": "Python 3 (ipykernel)",
   "language": "python",
   "name": "python3"
  },
  "language_info": {
   "codemirror_mode": {
    "name": "ipython",
    "version": 3
   },
   "file_extension": ".py",
   "mimetype": "text/x-python",
   "name": "python",
   "nbconvert_exporter": "python",
   "pygments_lexer": "ipython3",
   "version": "3.9.7"
  }
 },
 "nbformat": 4,
 "nbformat_minor": 5
}
