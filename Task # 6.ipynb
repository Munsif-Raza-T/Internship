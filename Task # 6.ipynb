{
 "cells": [
  {
   "cell_type": "code",
   "execution_count": 77,
   "id": "2926ae0f",
   "metadata": {},
   "outputs": [],
   "source": [
    "# Importing libraries\n",
    "import pandas as pd\n",
    "import numpy as np\n",
    "from sklearn.model_selection import train_test_split\n",
    "from sklearn.naive_bayes import GaussianNB\n",
    "import matplotlib.pyplot as plt"
   ]
  },
  {
   "cell_type": "code",
   "execution_count": 55,
   "id": "c16aace9",
   "metadata": {},
   "outputs": [],
   "source": [
    "# Importing dataset\n",
    "df = pd.read_csv('Iris.csv', index_col=0)"
   ]
  },
  {
   "cell_type": "code",
   "execution_count": 56,
   "id": "119e17cf",
   "metadata": {},
   "outputs": [
    {
     "data": {
      "text/plain": [
       "(150, 5)"
      ]
     },
     "execution_count": 56,
     "metadata": {},
     "output_type": "execute_result"
    }
   ],
   "source": [
    "# Looking for columns and rows\n",
    "df.shape"
   ]
  },
  {
   "cell_type": "markdown",
   "id": "f08837d7",
   "metadata": {},
   "source": [
    "This shows that this dataset has 150 records(rows) and 6 features(columns)."
   ]
  },
  {
   "cell_type": "code",
   "execution_count": 57,
   "id": "48552fde",
   "metadata": {},
   "outputs": [],
   "source": [
    "# Making encoding dictionary\n",
    "encoding_dict = {\n",
    "    \"Species\" : {\"Iris-setosa\":0, \"Iris-versicolor\":1, \"Iris-virginica\":2}\n",
    "}"
   ]
  },
  {
   "cell_type": "code",
   "execution_count": 58,
   "id": "e3870100",
   "metadata": {},
   "outputs": [],
   "source": [
    "# Replacing the categorical data to numerical data.\n",
    "df = df.replace(encoding_dict)"
   ]
  },
  {
   "cell_type": "code",
   "execution_count": 59,
   "id": "ce5df097",
   "metadata": {},
   "outputs": [],
   "source": [
    "# I/O data\n",
    "X = df.iloc[:,:-1]\n",
    "y = df.iloc[:,-1]"
   ]
  },
  {
   "cell_type": "code",
   "execution_count": 60,
   "id": "5a2ee449",
   "metadata": {},
   "outputs": [],
   "source": [
    "# Test dummy data.\n",
    "X_dummy = X.iloc[5,:].values.reshape(1,-1)\n",
    "y_dummy = y.iloc[5]"
   ]
  },
  {
   "cell_type": "code",
   "execution_count": 62,
   "id": "cc954246",
   "metadata": {},
   "outputs": [],
   "source": [
    "# Model initialization.\n",
    "clf = GaussianNB()"
   ]
  },
  {
   "cell_type": "code",
   "execution_count": 63,
   "id": "f7a1a00c",
   "metadata": {},
   "outputs": [],
   "source": [
    "# Tuple\n",
    "result_tuple = tuple()"
   ]
  },
  {
   "cell_type": "code",
   "execution_count": 64,
   "id": "34794fa1",
   "metadata": {},
   "outputs": [],
   "source": [
    "# Clf list\n",
    "clfs = []"
   ]
  },
  {
   "cell_type": "code",
   "execution_count": 65,
   "id": "07b6659e",
   "metadata": {},
   "outputs": [],
   "source": [
    "# Using for loop for getting train test data and model training and evaluation.\n",
    "for i in np.arange(50,70,5):\n",
    "    X_train, X_test, y_train, y_test = train_test_split(X, y, test_size=0.18, random_state=i)\n",
    "    clf.fit(X_train, y_train)\n",
    "    clfs.append(clf)"
   ]
  },
  {
   "cell_type": "code",
   "execution_count": 74,
   "id": "3f148b52",
   "metadata": {},
   "outputs": [
    {
     "name": "stderr",
     "output_type": "stream",
     "text": [
      "/home/munsif/Notebook/JupyterEnv/lib/python3.8/site-packages/sklearn/base.py:450: UserWarning: X does not have valid feature names, but GaussianNB was fitted with feature names\n",
      "  warnings.warn(\n",
      "/home/munsif/Notebook/JupyterEnv/lib/python3.8/site-packages/sklearn/base.py:450: UserWarning: X does not have valid feature names, but GaussianNB was fitted with feature names\n",
      "  warnings.warn(\n",
      "/home/munsif/Notebook/JupyterEnv/lib/python3.8/site-packages/sklearn/base.py:450: UserWarning: X does not have valid feature names, but GaussianNB was fitted with feature names\n",
      "  warnings.warn(\n",
      "/home/munsif/Notebook/JupyterEnv/lib/python3.8/site-packages/sklearn/base.py:450: UserWarning: X does not have valid feature names, but GaussianNB was fitted with feature names\n",
      "  warnings.warn(\n"
     ]
    }
   ],
   "source": [
    "for clf in clfs:\n",
    "    a_list = list(result_tuple)\n",
    "    a_list.append(clf.predict(X_dummy))\n",
    "    result_tuple = tuple(a_list)"
   ]
  },
  {
   "cell_type": "code",
   "execution_count": 75,
   "id": "e2aa94ea",
   "metadata": {},
   "outputs": [
    {
     "name": "stdout",
     "output_type": "stream",
     "text": [
      "(array([], dtype=float64), array([0]), array([0]), array([0]), array([0]))\n"
     ]
    }
   ],
   "source": [
    "print(result_tuple)"
   ]
  },
  {
   "cell_type": "code",
   "execution_count": 80,
   "id": "358f6082",
   "metadata": {},
   "outputs": [
    {
     "name": "stdout",
     "output_type": "stream",
     "text": [
      "0\n"
     ]
    }
   ],
   "source": [
    "print(y_dummy)"
   ]
  },
  {
   "cell_type": "markdown",
   "id": "65ae5daa",
   "metadata": {},
   "source": [
    "The actual value is 0 and all the other classifiers are also giving 0 as output result."
   ]
  },
  {
   "cell_type": "code",
   "execution_count": null,
   "id": "833c16de",
   "metadata": {},
   "outputs": [],
   "source": []
  }
 ],
 "metadata": {
  "kernelspec": {
   "display_name": "Python 3 (ipykernel)",
   "language": "python",
   "name": "python3"
  },
  "language_info": {
   "codemirror_mode": {
    "name": "ipython",
    "version": 3
   },
   "file_extension": ".py",
   "mimetype": "text/x-python",
   "name": "python",
   "nbconvert_exporter": "python",
   "pygments_lexer": "ipython3",
   "version": "3.8.10"
  }
 },
 "nbformat": 4,
 "nbformat_minor": 5
}
